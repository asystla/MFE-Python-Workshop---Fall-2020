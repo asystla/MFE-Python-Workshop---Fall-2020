{
 "cells": [
  {
   "cell_type": "markdown",
   "metadata": {},
   "source": [
    "# Introduction to Optimization (Root Finding)\n",
    "\n",
    "Optimization is very commonly used in Finance. Some typical examples include - calculating portfolio weights, risk aversion coefficients, discount rates, etc. We will study this topic through an example. In this example, we will calculate the interest rate used in discounting cash-flows. \n",
    "\n",
    "$$PV(CF) = CF_0 = \\frac{CF_1}{1+r} + \\frac{CF_1}{(1+r)^2} + \\frac{CF_3}{(1+r)^3} + ... \\frac{CF_T}{(1+r)^T}$$\n",
    "\n",
    "$$CF_0 = f(CF_i,r)$$\n",
    "\n",
    "\n",
    "**PV(CF)** - Present value of cash-flows (magically given to us)\n",
    "\n",
    "**$CF_i$**   - Cash-flow at year i\n",
    "\n",
    "**f** - Is a non-linear function on 'r'\n",
    "\n",
    "**Goal** - Is to calculate the 'r' that links CF_i to CF_0 \n",
    "\n",
    "Before applying the optimization package in SciPy to the above problem, we will solve a simple quadratic equation of the form $ax^2 + bx + c = 0$."
   ]
  },
  {
   "cell_type": "code",
   "execution_count": null,
   "metadata": {},
   "outputs": [],
   "source": [
    "# Applying the optimization function on a simple quadratic equation\n",
    "import scipy.optimize\n",
    "def quadratic_eq(x):\n",
    "    return x**2 - 3*x + 2 \n",
    "solve = scipy.optimize.root(lambda x: quadratic_eq(x), [2], method='hybr')\n",
    "#scipy.optimize.root?"
   ]
  },
  {
   "cell_type": "code",
   "execution_count": null,
   "metadata": {},
   "outputs": [],
   "source": [
    "# Printing the solution\n",
    "print(solve)"
   ]
  },
  {
   "cell_type": "code",
   "execution_count": null,
   "metadata": {},
   "outputs": [],
   "source": [
    "# Generating random cash-flows\n",
    "import numpy as np\n",
    "cf_data = np.array([-100,30,20,50,80])\n",
    "def c(r,cf_data):\n",
    "    store_val = []\n",
    "    for i in range(len(cf_data)):\n",
    "        store_val.append(cf_data[i]/(1+r)**i)\n",
    "    return np.sum(store_val)\n",
    "\n",
    "solve_r = scipy.optimize.root(lambda r : setup(r,cf_data), [0.1], method='hybr')\n",
    "        "
   ]
  },
  {
   "cell_type": "code",
   "execution_count": null,
   "metadata": {},
   "outputs": [],
   "source": [
    "print(solve_r)"
   ]
  },
  {
   "cell_type": "markdown",
   "metadata": {},
   "source": [
    "# Programming Interview Questions\n",
    "\n",
    "\n",
    "- **Matrix Operations** - Generating the correlation matrix by using only the covariance matrix. After studying linear regression, as an advanced study, you could try calculating the correlation matrix from the beta and covariance matrix. \n",
    "\n",
    "$$Corr(X,Y) = \\frac{Cov(X,Y)}{\\sigma_x \\cdot \\sigma_y}$$\n",
    "\n",
    "$R$ - Correlation Matrix\n",
    "\n",
    "$S$ - Array of Std Dev\n",
    "\n",
    "$M$ - Covariance Matrix\n",
    "\n",
    "$$M = diag(S) \\cdot R \\cdot diag(S) \\implies R = (diag(S))^{-1} \\cdot M (diag(S))^{-1}$$"
   ]
  },
  {
   "cell_type": "code",
   "execution_count": null,
   "metadata": {},
   "outputs": [],
   "source": [
    "# Using our stock data and recasting the dataframe\n",
    "import numpy as np\n",
    "import pandas as pd\n",
    "df = pd.read_csv(\"stock_data.csv\",parse_dates=['date'],na_values=\"C\").dropna().reset_index()\n",
    "df2 = df.groupby(['date','permno'])['total_returns'].sum().unstack().loc[:,[10137, 10051, 10057, 10028]]\n",
    "cov = df.cov().to_numpy()\n",
    "corr = df.corr().to_numpy()\n",
    "std = np.sqrt(np.diag(df.cov()))\n",
    "print(cov.shape,corr.shape,std.shape)"
   ]
  },
  {
   "cell_type": "code",
   "execution_count": null,
   "metadata": {},
   "outputs": [],
   "source": [
    "corr"
   ]
  },
  {
   "cell_type": "code",
   "execution_count": null,
   "metadata": {},
   "outputs": [],
   "source": [
    "cov"
   ]
  },
  {
   "cell_type": "code",
   "execution_count": null,
   "metadata": {},
   "outputs": [],
   "source": [
    "np.diag(std)"
   ]
  },
  {
   "cell_type": "code",
   "execution_count": null,
   "metadata": {},
   "outputs": [],
   "source": [
    "# Generating the covariance matrix\n",
    "np.matmul(np.matmul(np.diag(std),corr),np.diag(std))"
   ]
  },
  {
   "cell_type": "code",
   "execution_count": null,
   "metadata": {},
   "outputs": [],
   "source": [
    "# Generating the correlation matrix\n",
    "np.matmul(np.linalg.inv(np.diag(std)),np.matmul(cov,np.linalg.inv(np.diag(std))))"
   ]
  },
  {
   "cell_type": "markdown",
   "metadata": {},
   "source": [
    "- **Memoization** - Creating a fibonacci sequence without loops and using the memoization technique. Memoization involves caching values so future calls do not have to repeat the function calls."
   ]
  },
  {
   "cell_type": "code",
   "execution_count": null,
   "metadata": {},
   "outputs": [],
   "source": [
    "# Task 1 - creating a Fibonacci sequence using loops\n",
    "def fibonacci_loop(n):\n",
    "    \"\"\"Functions takes input integer 'n' and returns the n-th sequence of the fibonacci series (using loops)\"\"\"\n",
    "    store = [1,1] # creating a list with integer 1\n",
    "    i=2\n",
    "    # Loop for generating the fibonacci sequence\n",
    "    while i <n:\n",
    "        store.append(store[i-2]+store[i-1])\n",
    "        i=i+1\n",
    "    #print(store)\n",
    "    return store[n-1]\n",
    "\n",
    "# Calling the function\n",
    "fibonacci_loop(6)"
   ]
  },
  {
   "cell_type": "code",
   "execution_count": null,
   "metadata": {},
   "outputs": [],
   "source": [
    "# Task 2 - creating a Fibonacci sequence without using loops (without using Memoization)\n",
    "def fibonacci(n):\n",
    "    \"\"\"Function takes input integer 'n' and returns the n-th sequence of the fibonacci series (no loops & no memoization)\"\"\"\n",
    "    if n <= 2 : return 1\n",
    "    else : return fibonacci(n-1)+fibonacci(n-2)\n",
    "\n",
    "# Putting our function to the test\n",
    "fibonacci(6)\n",
    "\n",
    "for i in range(50):\n",
    "    print(i,\":\",fibonacci(i))"
   ]
  },
  {
   "cell_type": "code",
   "execution_count": null,
   "metadata": {},
   "outputs": [],
   "source": [
    "# Task 3 - creating a Fibonacci sequence without using loops (using Memoization)\n",
    "fibonacci_cache = {}\n",
    "\n",
    "def fibonacci_memoization(n):\n",
    "    \"\"\"Function takes input integer 'n' and returns the n-th sequence of the fibonacci series (no loops & with memoization)\"\"\"\n",
    "    \n",
    "    # Checking if the value n is in our cache\n",
    "    if n in fibonacci_cache : return fibonacci_cache[n]\n",
    "    \n",
    "    # If not, then calculate the n-th value\n",
    "    if n <= 2 : return 1\n",
    "    else : \n",
    "        value = fibonacci(n-1)+fibonacci(n-2)\n",
    "        fibonacci_cache[n] = value\n",
    "        return value"
   ]
  },
  {
   "cell_type": "markdown",
   "metadata": {},
   "source": [
    "### Other Types of Interview Questions\n",
    "\n",
    "- **Algorithm Question** - For example, take an array of length 'n' floats. Generate two arrays where the order of elements and  the size of array do not matter. The arrays have to be constructed such that the sum of the two arrays is minimized. You can use memoization/loops/external libraries. \n",
    "- **Order of complexity : Big-O** - Understanding the order of complexity of a loop, famous sorting/searching algorithms or your algorithms. \n",
    "\n",
    "### Other Topics\n",
    "\n",
    "- Explaining a searching and sorting algorithm. \n",
    "- Advanced OOP - Inheritance, Sub-class, Meta-class, Composition, etc.\n"
   ]
  },
  {
   "cell_type": "markdown",
   "metadata": {},
   "source": [
    "# Good Programming Practices\n",
    "\n",
    "- Understanding that every program operates along multiple complexities - Time and Space complexities are the most common\n",
    "- Making your code readable. Readable code that gives wrong output is better than an un-readable code that gives the right output.\n",
    "- Setting your seed when you simulate random variables (very important for generating reproducible results).\n",
    "- Commenting your code and adding doc-strings to your functions is very important when you want to revisit your code to understand what it does. It's easier to read through the comments than through code.\n",
    "- Creating versions of your code (you might be interested in a Git repository). \n",
    "- Avoiding loops as much as you can and running efficient loops by vectorizing. \n",
    "- Although you feel smart when you nest multiple operations/functions on an object, long-run it is better to write one/two commands per line of code."
   ]
  },
  {
   "cell_type": "markdown",
   "metadata": {},
   "source": [
    "# Advanced Python Topics\n",
    "\n",
    "- Git repository and Github\n",
    "- Pandas - Multi index, Pivot, Melt, Stack, Unstack, Pickle, Concat \n",
    "- Numpy - LinAlg library, Random variable distributions\n",
    "- Matplotlib - 3D plots, Interactive plots\n",
    "- Multiprocessing (parallel computing)\n",
    "- SQLite3 with Python\n",
    "- Memoization\n",
    "- Inheritance, Sub-classes, and Meta-classes\n",
    "- Map, Reduce, and Filter\n",
    "- Tensors\n",
    "- NumBa (easily handles extremely large data sets)\n",
    "- Logging and RaiseError for Exception Handling"
   ]
  }
 ],
 "metadata": {
  "kernelspec": {
   "display_name": "Python 3",
   "language": "python",
   "name": "python3"
  },
  "language_info": {
   "codemirror_mode": {
    "name": "ipython",
    "version": 3
   },
   "file_extension": ".py",
   "mimetype": "text/x-python",
   "name": "python",
   "nbconvert_exporter": "python",
   "pygments_lexer": "ipython3",
   "version": "3.7.3"
  }
 },
 "nbformat": 4,
 "nbformat_minor": 2
}
