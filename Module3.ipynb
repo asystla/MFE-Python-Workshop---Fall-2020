{
 "cells": [
  {
   "cell_type": "code",
   "execution_count": null,
   "metadata": {},
   "outputs": [],
   "source": [
    "import numpy as np\n",
    "import pandas as pd\n",
    "df = pd.read_csv(\"stock_data.csv\",parse_dates=['date'])"
   ]
  },
  {
   "cell_type": "markdown",
   "metadata": {},
   "source": [
    "# Logical Statements\n",
    "\n",
    "Booleans are the backbone of logical statements."
   ]
  },
  {
   "cell_type": "code",
   "execution_count": null,
   "metadata": {},
   "outputs": [],
   "source": [
    "# Using the int function\n",
    "int(3.14)"
   ]
  },
  {
   "cell_type": "code",
   "execution_count": null,
   "metadata": {},
   "outputs": [],
   "source": [
    "# understanding the bool function - similar to int(object)\n",
    "bool(10)\n",
    "# unless we pass 0, None, [], (), {} - bool function will always return True"
   ]
  },
  {
   "cell_type": "code",
   "execution_count": null,
   "metadata": {},
   "outputs": [],
   "source": [
    "# Generating booleans\n",
    "a = 5\n",
    "b = 7\n",
    "print(a>b)"
   ]
  },
  {
   "cell_type": "code",
   "execution_count": null,
   "metadata": {},
   "outputs": [],
   "source": [
    "# Value of boolean\n",
    "1 == True"
   ]
  },
  {
   "cell_type": "markdown",
   "metadata": {},
   "source": [
    "### If Statement"
   ]
  },
  {
   "cell_type": "code",
   "execution_count": null,
   "metadata": {},
   "outputs": [],
   "source": [
    "# if condition : \n",
    "    # Perform action (this section of code is indented)"
   ]
  },
  {
   "cell_type": "code",
   "execution_count": null,
   "metadata": {},
   "outputs": [],
   "source": [
    "# Using booleans in if statement : Syntax if True : execute; if False : exit\n",
    "if a<b : \n",
    "    print(\"a is less than b\")"
   ]
  },
  {
   "cell_type": "code",
   "execution_count": null,
   "metadata": {},
   "outputs": [],
   "source": [
    "# If any non-zero value is always True\n",
    "if 3 :\n",
    "    print(\"something\")"
   ]
  },
  {
   "cell_type": "code",
   "execution_count": null,
   "metadata": {},
   "outputs": [],
   "source": [
    "# Re-evaluating the NumPy .all function\n",
    "my_array = np.array([1,2,3])\n",
    "print((my_array>0).all()) # .all checks if all the values are True - inspiration for 'and' statement"
   ]
  },
  {
   "cell_type": "code",
   "execution_count": null,
   "metadata": {},
   "outputs": [],
   "source": [
    "# Pandas .all and .any functions\n",
    "df1 = pd.Series([1,2,3])\n",
    "(df1>0)#.any()"
   ]
  },
  {
   "cell_type": "markdown",
   "metadata": {},
   "source": [
    "### And Statement\n",
    "\n",
    "Allows us to compare multiple booleans. \"And\" statement gets executed only if all the conditions are True."
   ]
  },
  {
   "cell_type": "code",
   "execution_count": null,
   "metadata": {},
   "outputs": [],
   "source": [
    "# Combining two true statements by and\n",
    "True and True"
   ]
  },
  {
   "cell_type": "code",
   "execution_count": null,
   "metadata": {},
   "outputs": [],
   "source": [
    "# Combining a true and a false boolean\n",
    "True and False"
   ]
  },
  {
   "cell_type": "code",
   "execution_count": null,
   "metadata": {},
   "outputs": [],
   "source": [
    "# More than 2 conditions\n",
    "a = 1\n",
    "b = 2\n",
    "c = 3\n",
    "if (a==1) and (b==2) and (c==3):\n",
    "    print('success')"
   ]
  },
  {
   "cell_type": "code",
   "execution_count": null,
   "metadata": {},
   "outputs": [],
   "source": [
    "# Again any value other than zero are treated as true by Python\n",
    "if 3 and 4 and 5 : print('success')"
   ]
  },
  {
   "cell_type": "markdown",
   "metadata": {},
   "source": [
    "### Or Statement\n",
    "\n",
    "For the or statement to get executed, at least one of the conditions must be true."
   ]
  },
  {
   "cell_type": "code",
   "execution_count": null,
   "metadata": {},
   "outputs": [],
   "source": [
    "# Combining two true booleans\n",
    "True or True "
   ]
  },
  {
   "cell_type": "code",
   "execution_count": null,
   "metadata": {},
   "outputs": [],
   "source": [
    "# Combining a true and a false boolean\n",
    "True or False"
   ]
  },
  {
   "cell_type": "code",
   "execution_count": null,
   "metadata": {},
   "outputs": [],
   "source": [
    "# More than 2 conditions\n",
    "a = 1\n",
    "b = 2\n",
    "c = 3\n",
    "if (a==1) or (b==1) or (c==1):print('success')"
   ]
  },
  {
   "cell_type": "markdown",
   "metadata": {},
   "source": [
    "### If, Elif, and Else"
   ]
  },
  {
   "cell_type": "code",
   "execution_count": null,
   "metadata": {},
   "outputs": [],
   "source": [
    "# if test1:\n",
    "    # if test1 is true, do this\n",
    "# elif test2:\n",
    "    # if test2 is true, do this\n",
    "# else : \n",
    "    # if none of the above are true, then do this"
   ]
  },
  {
   "cell_type": "code",
   "execution_count": null,
   "metadata": {},
   "outputs": [],
   "source": [
    "# A simple example of if, elif, and else statement\n",
    "a = 10\n",
    "\n",
    "if a<10 : \n",
    "    print('A')\n",
    "elif (a>=10) and (a<100) : \n",
    "    print('B')\n",
    "else :\n",
    "    print('C')"
   ]
  },
  {
   "cell_type": "markdown",
   "metadata": {},
   "source": [
    "# Loops\n",
    "\n",
    "Python has two loop commands - For and While loop. Operations on individual elements can be generalized using a loop in Python."
   ]
  },
  {
   "cell_type": "markdown",
   "metadata": {},
   "source": [
    "### For Loop"
   ]
  },
  {
   "cell_type": "code",
   "execution_count": null,
   "metadata": {},
   "outputs": [],
   "source": [
    "# Defining an array and iterating through the array\n",
    "my_array = np.array([1,2,3,4,5])\n",
    "\n",
    "# Example of an opeartion \n",
    "(my_array[2]+my_array[0])**(my_array[3]-my_array[0])"
   ]
  },
  {
   "cell_type": "code",
   "execution_count": null,
   "metadata": {},
   "outputs": [],
   "source": [
    "# Simple syntax of for loop\n",
    "# Similar to if-statement, for loop starts with first indentation and ends at first un-indented line\n",
    "for element in my_array:\n",
    "    print(element)"
   ]
  },
  {
   "cell_type": "code",
   "execution_count": null,
   "metadata": {},
   "outputs": [],
   "source": [
    "# range function - similar to np.arange()\n",
    "range(0,5) # gives us a range object in the range class"
   ]
  },
  {
   "cell_type": "code",
   "execution_count": null,
   "metadata": {},
   "outputs": [],
   "source": [
    "list(range(10,20,2))"
   ]
  },
  {
   "cell_type": "code",
   "execution_count": null,
   "metadata": {},
   "outputs": [],
   "source": [
    "np.arange(10,20,2)"
   ]
  },
  {
   "cell_type": "code",
   "execution_count": null,
   "metadata": {},
   "outputs": [],
   "source": [
    "# For loop with range\n",
    "for i in range(0,len(my_array)):\n",
    "    print(my_array[i])"
   ]
  },
  {
   "cell_type": "markdown",
   "metadata": {},
   "source": [
    "### While Loop"
   ]
  },
  {
   "cell_type": "code",
   "execution_count": null,
   "metadata": {},
   "outputs": [],
   "source": [
    "# As long as a condition is true, While loop is executed\n",
    "i=0\n",
    "while i<6:\n",
    "    print(i)\n",
    "    i=i+1 # Can be replaced with i=i+0.5"
   ]
  },
  {
   "cell_type": "code",
   "execution_count": null,
   "metadata": {},
   "outputs": [],
   "source": [
    "# While loops with \"break\"\n",
    "# Break statement essentially stops running the loop if encountered\n",
    "i=0\n",
    "while i<5:\n",
    "    if i==3:\n",
    "        break\n",
    "    print(i)\n",
    "    i=i+1"
   ]
  },
  {
   "cell_type": "code",
   "execution_count": null,
   "metadata": {},
   "outputs": [],
   "source": [
    "# While loops with \"continue\"\n",
    "# Continue statement skips \n",
    "i=0\n",
    "while i<5:\n",
    "    i=i+1 # Does not matter where i=i+1 is present inside the indentation of while loop\n",
    "    if i==3:continue # should be present before our mathematical operation \n",
    "    print(i+i**2+i**3)"
   ]
  },
  {
   "cell_type": "markdown",
   "metadata": {},
   "source": [
    "### List Comprehension\n",
    "\n",
    "Instead of entering data/objects inside [.] for generating lists, in list comprehensions you enter for loops and if statements within [.] to evaluate your expression. "
   ]
  },
  {
   "cell_type": "code",
   "execution_count": null,
   "metadata": {},
   "outputs": [],
   "source": [
    "# Creating a new list with squares of first 5 integers\n",
    "my_list1 = [] # Initiating an empty list\n",
    "for i in range(10):\n",
    "    my_list1.append(i**2) # Appending the square of the integer\n",
    "my_list1"
   ]
  },
  {
   "cell_type": "code",
   "execution_count": null,
   "metadata": {},
   "outputs": [],
   "source": [
    "# An alternate concise way to create lists without calling a for loop and storing output\n",
    "# Syntax is [expression for items in collection if <test condition>]\n",
    "my_list2 = [x**2 for x in range(10)] # saves us creating a blank list, indendations and appending\n",
    "my_list2"
   ]
  },
  {
   "cell_type": "code",
   "execution_count": null,
   "metadata": {},
   "outputs": [],
   "source": [
    "# Adding an if statement (calculating squares of even numbers only)\n",
    "my_list3 = [x**2 for x in range(10) if x%2==0] \n",
    "my_list3"
   ]
  },
  {
   "cell_type": "markdown",
   "metadata": {},
   "source": [
    "# Functions\n",
    "\n",
    "Calculations and logical operations that need to be used repeatedly can be done so using a function."
   ]
  },
  {
   "cell_type": "code",
   "execution_count": null,
   "metadata": {},
   "outputs": [],
   "source": [
    "# Syntax for defining a function\n",
    "# def function (#arguments) : return\n",
    "# Similar to loops, code is grouped inside a function through indentation\n",
    "def my_function():\n",
    "    pass "
   ]
  },
  {
   "cell_type": "code",
   "execution_count": null,
   "metadata": {},
   "outputs": [],
   "source": [
    "# Checking the output of the function created above\n",
    "my_function\n",
    "#my_function()"
   ]
  },
  {
   "cell_type": "code",
   "execution_count": null,
   "metadata": {},
   "outputs": [],
   "source": [
    "# Creating a function that does something\n",
    "from math import pi\n",
    "def area(x):\n",
    "    \"\"\"\" Function returns the area of the circle \"\"\"\n",
    "    return 0.5*pi*x**2"
   ]
  },
  {
   "cell_type": "code",
   "execution_count": null,
   "metadata": {},
   "outputs": [],
   "source": [
    "# Reading the docstring of the function\n",
    "area?\n",
    "# area(5)\n",
    "# area(-5) # not good programming practice"
   ]
  },
  {
   "cell_type": "code",
   "execution_count": null,
   "metadata": {},
   "outputs": [],
   "source": [
    "# Error when we don't pass a required variable \"x\"\n",
    "area() "
   ]
  },
  {
   "cell_type": "code",
   "execution_count": null,
   "metadata": {},
   "outputs": [],
   "source": [
    "# Using the function in a list comprehension\n",
    "[area(r) for r in range(10)]"
   ]
  },
  {
   "cell_type": "code",
   "execution_count": null,
   "metadata": {},
   "outputs": [],
   "source": [
    "# Passing a numpy array inside the function\n",
    "area(np.array([1,2,3]))"
   ]
  },
  {
   "cell_type": "code",
   "execution_count": null,
   "metadata": {},
   "outputs": [],
   "source": [
    "# Modifying the area function\n",
    "def area(x=10):\n",
    "    \"\"\"\" Function returns the area of the circle \"\"\"\n",
    "    return 0.5*pi*x**2"
   ]
  },
  {
   "cell_type": "code",
   "execution_count": null,
   "metadata": {},
   "outputs": [],
   "source": [
    "# Running function without specifying the key-word argument \"x\"\n",
    "area() "
   ]
  },
  {
   "cell_type": "code",
   "execution_count": null,
   "metadata": {},
   "outputs": [],
   "source": [
    "# Creating a function with required and key-word arguments\n",
    "def mfe_co_2021(input1,input2=5): # first required arguments and then key word arguments\n",
    "    \"\"\"This function returns the product of two numbers\"\"\"\n",
    "    return input1*input2"
   ]
  },
  {
   "cell_type": "code",
   "execution_count": null,
   "metadata": {},
   "outputs": [],
   "source": [
    "# Calling the function\n",
    "mfe_co_2021(10.5,10)"
   ]
  },
  {
   "cell_type": "code",
   "execution_count": null,
   "metadata": {},
   "outputs": [],
   "source": [
    "type(mfe_co_2021)"
   ]
  },
  {
   "cell_type": "markdown",
   "metadata": {},
   "source": [
    "### Lambda - Anonymous Functions\n",
    "\n",
    "The lambda function can take many inputs, but can only have one output."
   ]
  },
  {
   "cell_type": "code",
   "execution_count": null,
   "metadata": {},
   "outputs": [],
   "source": [
    "# Syntax for the lambda function\n",
    "# lambda inputs : output\n",
    "lambda x : print(x) # A single line function only"
   ]
  },
  {
   "cell_type": "code",
   "execution_count": null,
   "metadata": {},
   "outputs": [],
   "source": [
    "# Defining a function that squares a number\n",
    "def square(x) : return x**2\n",
    "square(3)"
   ]
  },
  {
   "cell_type": "code",
   "execution_count": null,
   "metadata": {},
   "outputs": [],
   "source": [
    "# Creating a lambda function\n",
    "# We are assigning the lambda function to x; So x is a function with no name\n",
    "lambda i : i**2\n",
    "#x = lambda i : i**2\n",
    "#x(3)"
   ]
  },
  {
   "cell_type": "code",
   "execution_count": null,
   "metadata": {},
   "outputs": [],
   "source": [
    "# Passing a numpy array through the lambda function\n",
    "my_array = np.linspace(0,5,6)\n",
    "my_array\n",
    "fun = lambda x : np.exp(x)\n",
    "fun(my_array)"
   ]
  },
  {
   "cell_type": "markdown",
   "metadata": {},
   "source": [
    "### Pandas Apply\n",
    "\n",
    "The apply function can be used on a pandas series and on a pandas dataframe. Usually, groupby, apply, and the lambda functions go together."
   ]
  },
  {
   "cell_type": "code",
   "execution_count": null,
   "metadata": {},
   "outputs": [],
   "source": [
    "# Creating a random dataframe\n",
    "df = pd.DataFrame(np.linspace(0,10,100).reshape(20,5),columns=[\"A B C D E\".split()])\n",
    "df.head()"
   ]
  },
  {
   "cell_type": "code",
   "execution_count": null,
   "metadata": {},
   "outputs": [],
   "source": [
    "# Apply function on a pandas data series\n",
    "df['A'].apply(np.exp) # calculating the exponential at each value of series A"
   ]
  },
  {
   "cell_type": "code",
   "execution_count": null,
   "metadata": {},
   "outputs": [],
   "source": [
    "# Apply function on a pandas data frame\n",
    "df[['A','B','C']].apply(np.max,axis=1).head() # axis=0 is along the column, axis=1 is along each row"
   ]
  },
  {
   "cell_type": "code",
   "execution_count": null,
   "metadata": {},
   "outputs": [],
   "source": [
    "# Reloading the dataset analyzed above (shortcut to parse the dates while reading the data)\n",
    "df = pd.read_csv(\"stock_data.csv\",sep = ',',parse_dates=['date'])\n",
    "\n",
    "# Converting any letters into NaN\n",
    "df['price'] = pd.to_numeric(df['price'],errors='coerce')\n",
    "df['total_returns'] = pd.to_numeric(df['total_returns'],errors='coerce')\n",
    "\n",
    "df.head(10)"
   ]
  },
  {
   "cell_type": "code",
   "execution_count": null,
   "metadata": {},
   "outputs": [],
   "source": [
    "# Defining a function that we want to apply on the dataframe\n",
    "df.groupby('permno')[['price']].apply(lambda x : x.max()/x.min())"
   ]
  },
  {
   "cell_type": "code",
   "execution_count": null,
   "metadata": {},
   "outputs": [],
   "source": [
    "# Creating a custom function \n",
    "def modify_return(x):\n",
    "    return (x.mean()-x.median())/x.std()"
   ]
  },
  {
   "cell_type": "code",
   "execution_count": null,
   "metadata": {},
   "outputs": [],
   "source": [
    "df.groupby('permno')[['total_returns']].apply(lambda x : modify_return(x))"
   ]
  },
  {
   "cell_type": "code",
   "execution_count": null,
   "metadata": {},
   "outputs": [],
   "source": [
    "# Apply function along the rows\n",
    "#df[['price','share_outstanding']].apply(lambda x : x['price']*x['share_outstanding'],axis=1)"
   ]
  },
  {
   "cell_type": "markdown",
   "metadata": {},
   "source": [
    "# Plotting"
   ]
  },
  {
   "cell_type": "code",
   "execution_count": null,
   "metadata": {},
   "outputs": [],
   "source": [
    "import matplotlib.pyplot as plt"
   ]
  },
  {
   "cell_type": "code",
   "execution_count": null,
   "metadata": {},
   "outputs": [],
   "source": [
    "# Defining our two arrays \n",
    "x = np.linspace(-10,10,21)\n",
    "y = x**2"
   ]
  },
  {
   "cell_type": "code",
   "execution_count": null,
   "metadata": {},
   "outputs": [],
   "source": [
    "plt.plot(x,y)\n",
    "# The x-axis is the default y-index\n",
    "# First line above the plot (image location)\n",
    "# Include x in the second part of plot\n",
    "# Include label and legend\n",
    "# Include plt.show to remove the first line \n",
    "# Change line color\n",
    "# Add a Z variable\n",
    "# Change line width\n",
    "# Change line transparency using alpha\n",
    "# Change line type by adding '--'\n",
    "# Add title\n",
    "# Add x-label\n",
    "# Add x-ticks\n",
    "# Save figure"
   ]
  },
  {
   "cell_type": "code",
   "execution_count": null,
   "metadata": {},
   "outputs": [],
   "source": [
    "# We can also plot directly from pandas\n",
    "df[df['permno']<=10029].groupby(['date','permno'])['total_returns'].mean().unstack().cumsum().plot()"
   ]
  },
  {
   "cell_type": "markdown",
   "metadata": {},
   "source": [
    "### Subplots"
   ]
  },
  {
   "cell_type": "code",
   "execution_count": null,
   "metadata": {},
   "outputs": [],
   "source": [
    "fig,ax = plt.subplots(2,2)\n",
    "\n",
    "# Randomly defining 4 y-variables for subplots\n",
    "x = np.linspace(-10,10,21)\n",
    "y1 = np.exp(x)\n",
    "y2 = np.sin(x)\n",
    "y3 = np.power(x,3)\n",
    "y4 = 10*x**2\n",
    "\n",
    "# First subplot\n",
    "ax[0,0].plot(x,y1)\n",
    "\n",
    "# Second subplot\n",
    "ax[0,1].plot(x,y2)\n",
    "\n",
    "# Third subplot\n",
    "ax[1,0].plot(x,y3)\n",
    "\n",
    "# Fourth subplot\n",
    "ax[1,1].plot(x,y4)\n",
    "\n",
    "plt.show()"
   ]
  },
  {
   "cell_type": "code",
   "execution_count": null,
   "metadata": {},
   "outputs": [],
   "source": []
  },
  {
   "cell_type": "markdown",
   "metadata": {},
   "source": [
    "# Take Home Questions\n",
    "\n",
    "To keep you thinking about Python."
   ]
  },
  {
   "cell_type": "markdown",
   "metadata": {},
   "source": [
    "- **List Comprehension**: First generate a list using the range(20) function. Next, create a second list that calculates $0.5 \\cdot n \\cdot (n+1)$ for each item in the first list. Solve this using a while loop and also the list comprehension method. Check if the outputs match.\n",
    "\n",
    "\n",
    "- **Fibonacci Sequence**: Construct a function \"fibonacci\" that takes in the required variable integer \"$n$\" and returns the $n_{th}$ term in a Fibonacci sequence. For example, if your call your function fibonacci(n=6) it should return the value 8. You can use a for or a while loop inside your function. Print the function output for n=30, 50, and 100. \n",
    "\n",
    "\n",
    "- **Pandas Rolling** is a very useful function to know (check out the doc string of pandas.Series.rolling for a better understanding of what the function does). In this problem, we will calculate the 1-year rolling sum of returns for the data in *stock_data.csv* file. Clean the data (remove strings and drop NaN values). Use the pandas rolling function (window=12) to calculate the sum of 1-year returns. \n",
    "\n",
    "\n",
    "- **Plot and Subplots** - For the 4 PERMNOs - (10137, 10051, 10057, 10028), calculate the cumulative sum of returns and plot them in a 4-by-4 sub plot. Also, plot all their cumulative sum of returns in one plot."
   ]
  }
 ],
 "metadata": {
  "kernelspec": {
   "display_name": "Python 3",
   "language": "python",
   "name": "python3"
  },
  "language_info": {
   "codemirror_mode": {
    "name": "ipython",
    "version": 3
   },
   "file_extension": ".py",
   "mimetype": "text/x-python",
   "name": "python",
   "nbconvert_exporter": "python",
   "pygments_lexer": "ipython3",
   "version": "3.7.3"
  }
 },
 "nbformat": 4,
 "nbformat_minor": 2
}
